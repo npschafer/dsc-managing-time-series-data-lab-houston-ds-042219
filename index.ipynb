{
 "cells": [
  {
   "cell_type": "markdown",
   "metadata": {},
   "source": [
    "# Managing Time Series Data - Lab\n",
    "\n",
    "## Introduction\n",
    "\n",
    "In the previous lecture, you learned that time series data are everywhere and understanding time series data is an important skill for data scientists!\n",
    "\n",
    "In this lab, you'll practice your previously learned techniques to import/load, clean and manipulate time series data.\n",
    "\n",
    "The lab will cover how to perform time series analysis while working with large datasets. The dataset can be memory intensive so your computer will need at least 2GB of memory to perform some of the calculations.\n",
    "\n",
    "\n",
    "## Objectives\n",
    "\n",
    "You will be able to:\n",
    "\n",
    "* Load time series data using Pandas and perform time series indexing\n",
    "* Perform index based slicing to create subsets of a time series\n",
    "* Change the granularity of a time series \n",
    "* Perform basic data cleaning operations on time series data\n",
    "\n",
    "## Let's get started!\n",
    "\n",
    "We will start the lab by loading the required libraries \n",
    "\n",
    "* `pandas` for data wrangling and manipulations  \n",
    "* `matplotlib` for visualizing time series data \n",
    "* `statsmodels` primarily for bundled datasets "
   ]
  },
  {
   "cell_type": "code",
   "execution_count": 1,
   "metadata": {},
   "outputs": [],
   "source": [
    "import numpy as np\n",
    "import matplotlib.pyplot as plt\n",
    "import seaborn as sns\n",
    "import sklearn\n",
    "import pandas as pd\n",
    "import statsmodels.api as sm"
   ]
  },
  {
   "cell_type": "markdown",
   "metadata": {},
   "source": [
    "## Loading time series data\n",
    "The `StatsModels` library comes bundled with built-in datasets for experimentation and practice. A detailed description of these datasets can be found [here](http://www.statsmodels.org/dev/datasets/index.html). Using `StatsModels`, the time series datasets can be loaded straight into memory. \n",
    "\n",
    "In this lab, we'll use the **\"Atmospheric CO2 from Continuous Air Samples at Mauna Loa Observatory, Hawaii, U.S.A.\"**, containing CO2 samples from March 1958 to December 2001. Further details on this dataset are available [here](http://www.statsmodels.org/dev/datasets/generated/co2.html).\n",
    "\n",
    "We can bring in this data using the `load_pandas()`-method, which will allow us to read this data into a pandas dataframe by using `dataset.data`.  "
   ]
  },
  {
   "cell_type": "code",
   "execution_count": 2,
   "metadata": {},
   "outputs": [
    {
     "ename": "TypeError",
     "evalue": "__new__() got an unexpected keyword argument 'format'",
     "output_type": "error",
     "traceback": [
      "\u001b[0;31m\u001b[0m",
      "\u001b[0;31mTypeError\u001b[0mTraceback (most recent call last)",
      "\u001b[0;32m<ipython-input-2-b401cc8e4519>\u001b[0m in \u001b[0;36m<module>\u001b[0;34m()\u001b[0m\n\u001b[1;32m      1\u001b[0m \u001b[0;31m# Load the \"co2\" dataset from sm.datasets\u001b[0m\u001b[0;34m\u001b[0m\u001b[0;34m\u001b[0m\u001b[0m\n\u001b[0;32m----> 2\u001b[0;31m \u001b[0mCO2_dataset\u001b[0m \u001b[0;34m=\u001b[0m \u001b[0msm\u001b[0m\u001b[0;34m.\u001b[0m\u001b[0mdatasets\u001b[0m\u001b[0;34m.\u001b[0m\u001b[0mco2\u001b[0m\u001b[0;34m.\u001b[0m\u001b[0mload_pandas\u001b[0m\u001b[0;34m(\u001b[0m\u001b[0;34m)\u001b[0m\u001b[0;34m\u001b[0m\u001b[0m\n\u001b[0m\u001b[1;32m      3\u001b[0m \u001b[0mCO2\u001b[0m \u001b[0;34m=\u001b[0m \u001b[0mCO2_dataset\u001b[0m\u001b[0;34m.\u001b[0m\u001b[0mdata\u001b[0m\u001b[0;34m\u001b[0m\u001b[0m\n",
      "\u001b[0;32m/opt/conda/envs/learn-env/lib/python3.6/site-packages/statsmodels/datasets/co2/data.py\u001b[0m in \u001b[0;36mload_pandas\u001b[0;34m()\u001b[0m\n\u001b[1;32m     64\u001b[0m     index = pd.DatetimeIndex(start=data.data['date'][0].decode('utf-8'),\n\u001b[1;32m     65\u001b[0m                              \u001b[0mperiods\u001b[0m\u001b[0;34m=\u001b[0m\u001b[0mlen\u001b[0m\u001b[0;34m(\u001b[0m\u001b[0mdata\u001b[0m\u001b[0;34m.\u001b[0m\u001b[0mdata\u001b[0m\u001b[0;34m)\u001b[0m\u001b[0;34m,\u001b[0m \u001b[0mformat\u001b[0m\u001b[0;34m=\u001b[0m\u001b[0;34m'%Y%m%d'\u001b[0m\u001b[0;34m,\u001b[0m\u001b[0;34m\u001b[0m\u001b[0m\n\u001b[0;32m---> 66\u001b[0;31m                              freq='W-SAT')\n\u001b[0m\u001b[1;32m     67\u001b[0m     \u001b[0mdataset\u001b[0m \u001b[0;34m=\u001b[0m \u001b[0mpd\u001b[0m\u001b[0;34m.\u001b[0m\u001b[0mDataFrame\u001b[0m\u001b[0;34m(\u001b[0m\u001b[0mdata\u001b[0m\u001b[0;34m.\u001b[0m\u001b[0mdata\u001b[0m\u001b[0;34m[\u001b[0m\u001b[0;34m'co2'\u001b[0m\u001b[0;34m]\u001b[0m\u001b[0;34m,\u001b[0m \u001b[0mindex\u001b[0m\u001b[0;34m=\u001b[0m\u001b[0mindex\u001b[0m\u001b[0;34m,\u001b[0m \u001b[0mcolumns\u001b[0m\u001b[0;34m=\u001b[0m\u001b[0;34m[\u001b[0m\u001b[0;34m'co2'\u001b[0m\u001b[0;34m]\u001b[0m\u001b[0;34m)\u001b[0m\u001b[0;34m\u001b[0m\u001b[0m\n\u001b[1;32m     68\u001b[0m     \u001b[0;31m#NOTE: this is how I got the missing values in co2.csv\u001b[0m\u001b[0;34m\u001b[0m\u001b[0;34m\u001b[0m\u001b[0m\n",
      "\u001b[0;31mTypeError\u001b[0m: __new__() got an unexpected keyword argument 'format'"
     ]
    }
   ],
   "source": [
    "# Load the \"co2\" dataset from sm.datasets\n",
    "CO2_dataset = sm.datasets.co2.load_pandas()\n",
    "CO2 = CO2_dataset.data"
   ]
  },
  {
   "cell_type": "code",
   "execution_count": 3,
   "metadata": {},
   "outputs": [],
   "source": [
    "df = pd.DataFrame.from_records(sm.datasets.co2.load().data)\n",
    "df['date'] = df.date.apply(lambda x: x.decode('utf-8'))\n",
    "df['date'] = pd.to_datetime(df.date, format='%Y%m%d')\n",
    "df.set_index('date', i)\n",
    "CO2 = df"
   ]
  },
  {
   "cell_type": "code",
   "execution_count": 4,
   "metadata": {},
   "outputs": [
    {
     "data": {
      "text/html": [
       "<div>\n",
       "<style scoped>\n",
       "    .dataframe tbody tr th:only-of-type {\n",
       "        vertical-align: middle;\n",
       "    }\n",
       "\n",
       "    .dataframe tbody tr th {\n",
       "        vertical-align: top;\n",
       "    }\n",
       "\n",
       "    .dataframe thead th {\n",
       "        text-align: right;\n",
       "    }\n",
       "</style>\n",
       "<table border=\"1\" class=\"dataframe\">\n",
       "  <thead>\n",
       "    <tr style=\"text-align: right;\">\n",
       "      <th></th>\n",
       "      <th>date</th>\n",
       "      <th>co2</th>\n",
       "    </tr>\n",
       "  </thead>\n",
       "  <tbody>\n",
       "    <tr>\n",
       "      <th>0</th>\n",
       "      <td>1958-03-29</td>\n",
       "      <td>316.1</td>\n",
       "    </tr>\n",
       "    <tr>\n",
       "      <th>1</th>\n",
       "      <td>1958-04-05</td>\n",
       "      <td>317.3</td>\n",
       "    </tr>\n",
       "    <tr>\n",
       "      <th>2</th>\n",
       "      <td>1958-04-12</td>\n",
       "      <td>317.6</td>\n",
       "    </tr>\n",
       "    <tr>\n",
       "      <th>3</th>\n",
       "      <td>1958-04-19</td>\n",
       "      <td>317.5</td>\n",
       "    </tr>\n",
       "    <tr>\n",
       "      <th>4</th>\n",
       "      <td>1958-04-26</td>\n",
       "      <td>316.4</td>\n",
       "    </tr>\n",
       "  </tbody>\n",
       "</table>\n",
       "</div>"
      ],
      "text/plain": [
       "        date    co2\n",
       "0 1958-03-29  316.1\n",
       "1 1958-04-05  317.3\n",
       "2 1958-04-12  317.6\n",
       "3 1958-04-19  317.5\n",
       "4 1958-04-26  316.4"
      ]
     },
     "execution_count": 4,
     "metadata": {},
     "output_type": "execute_result"
    }
   ],
   "source": [
    "CO2.head()"
   ]
  },
  {
   "cell_type": "markdown",
   "metadata": {},
   "source": [
    "Let's check the type of CO2 and also first 15 entries of CO2 dataframe as our first exploratory step."
   ]
  },
  {
   "cell_type": "code",
   "execution_count": 5,
   "metadata": {},
   "outputs": [
    {
     "data": {
      "text/plain": [
       "pandas.core.frame.DataFrame"
      ]
     },
     "execution_count": 5,
     "metadata": {},
     "output_type": "execute_result"
    }
   ],
   "source": [
    "type(CO2)"
   ]
  },
  {
   "cell_type": "code",
   "execution_count": 6,
   "metadata": {},
   "outputs": [
    {
     "data": {
      "text/html": [
       "<div>\n",
       "<style scoped>\n",
       "    .dataframe tbody tr th:only-of-type {\n",
       "        vertical-align: middle;\n",
       "    }\n",
       "\n",
       "    .dataframe tbody tr th {\n",
       "        vertical-align: top;\n",
       "    }\n",
       "\n",
       "    .dataframe thead th {\n",
       "        text-align: right;\n",
       "    }\n",
       "</style>\n",
       "<table border=\"1\" class=\"dataframe\">\n",
       "  <thead>\n",
       "    <tr style=\"text-align: right;\">\n",
       "      <th></th>\n",
       "      <th>date</th>\n",
       "      <th>co2</th>\n",
       "    </tr>\n",
       "  </thead>\n",
       "  <tbody>\n",
       "    <tr>\n",
       "      <th>0</th>\n",
       "      <td>1958-03-29</td>\n",
       "      <td>316.1</td>\n",
       "    </tr>\n",
       "    <tr>\n",
       "      <th>1</th>\n",
       "      <td>1958-04-05</td>\n",
       "      <td>317.3</td>\n",
       "    </tr>\n",
       "    <tr>\n",
       "      <th>2</th>\n",
       "      <td>1958-04-12</td>\n",
       "      <td>317.6</td>\n",
       "    </tr>\n",
       "    <tr>\n",
       "      <th>3</th>\n",
       "      <td>1958-04-19</td>\n",
       "      <td>317.5</td>\n",
       "    </tr>\n",
       "    <tr>\n",
       "      <th>4</th>\n",
       "      <td>1958-04-26</td>\n",
       "      <td>316.4</td>\n",
       "    </tr>\n",
       "    <tr>\n",
       "      <th>5</th>\n",
       "      <td>1958-05-03</td>\n",
       "      <td>316.9</td>\n",
       "    </tr>\n",
       "    <tr>\n",
       "      <th>6</th>\n",
       "      <td>1958-05-10</td>\n",
       "      <td>NaN</td>\n",
       "    </tr>\n",
       "    <tr>\n",
       "      <th>7</th>\n",
       "      <td>1958-05-17</td>\n",
       "      <td>317.5</td>\n",
       "    </tr>\n",
       "    <tr>\n",
       "      <th>8</th>\n",
       "      <td>1958-05-24</td>\n",
       "      <td>317.9</td>\n",
       "    </tr>\n",
       "    <tr>\n",
       "      <th>9</th>\n",
       "      <td>1958-05-31</td>\n",
       "      <td>NaN</td>\n",
       "    </tr>\n",
       "    <tr>\n",
       "      <th>10</th>\n",
       "      <td>1958-06-07</td>\n",
       "      <td>NaN</td>\n",
       "    </tr>\n",
       "    <tr>\n",
       "      <th>11</th>\n",
       "      <td>1958-06-14</td>\n",
       "      <td>NaN</td>\n",
       "    </tr>\n",
       "    <tr>\n",
       "      <th>12</th>\n",
       "      <td>1958-06-21</td>\n",
       "      <td>NaN</td>\n",
       "    </tr>\n",
       "    <tr>\n",
       "      <th>13</th>\n",
       "      <td>1958-06-28</td>\n",
       "      <td>NaN</td>\n",
       "    </tr>\n",
       "    <tr>\n",
       "      <th>14</th>\n",
       "      <td>1958-07-05</td>\n",
       "      <td>315.8</td>\n",
       "    </tr>\n",
       "  </tbody>\n",
       "</table>\n",
       "</div>"
      ],
      "text/plain": [
       "         date    co2\n",
       "0  1958-03-29  316.1\n",
       "1  1958-04-05  317.3\n",
       "2  1958-04-12  317.6\n",
       "3  1958-04-19  317.5\n",
       "4  1958-04-26  316.4\n",
       "5  1958-05-03  316.9\n",
       "6  1958-05-10    NaN\n",
       "7  1958-05-17  317.5\n",
       "8  1958-05-24  317.9\n",
       "9  1958-05-31    NaN\n",
       "10 1958-06-07    NaN\n",
       "11 1958-06-14    NaN\n",
       "12 1958-06-21    NaN\n",
       "13 1958-06-28    NaN\n",
       "14 1958-07-05  315.8"
      ]
     },
     "execution_count": 6,
     "metadata": {},
     "output_type": "execute_result"
    }
   ],
   "source": [
    "CO2.head(15)"
   ]
  },
  {
   "cell_type": "code",
   "execution_count": null,
   "metadata": {
    "scrolled": true
   },
   "outputs": [],
   "source": [
    "# Print the datatype of CO2 and check first 15 values\n",
    "\n",
    "# datatype of CO2 is <class 'pandas.core.frame.DataFrame'>\n",
    "\n",
    "#               co2\n",
    "# 1958-03-29  316.1\n",
    "# 1958-04-05  317.3\n",
    "# 1958-04-12  317.6\n",
    "# 1958-04-19  317.5\n",
    "# 1958-04-26  316.4\n",
    "# 1958-05-03  316.9\n",
    "# 1958-05-10    NaN\n",
    "# 1958-05-17  317.5\n",
    "# 1958-05-24  317.9\n",
    "# 1958-05-31    NaN\n",
    "# 1958-06-07    NaN\n",
    "# 1958-06-14    NaN\n",
    "# 1958-06-21    NaN\n",
    "# 1958-06-28    NaN\n",
    "# 1958-07-05  315.8"
   ]
  },
  {
   "cell_type": "markdown",
   "metadata": {},
   "source": [
    "With all the required packages imported and the CO2 dataset as a Dataframe ready to go, we can move on to indexing our data.\n",
    "\n",
    "## Data Indexing\n",
    "\n",
    "You may have noticed that by default, the dates have been set as the index of our pandas DataFrame. While working with time series data in Python, it's important to always ensure that dates are used as index values and are set as a `timestamp` object. Timestamp is the pandas equivalent of python’s `Datetime` and is interchangeable with it in most cases. It's the type used for the entries that make up a `DatetimeIndex`, and other time series oriented data structures in pandas. Further details can be found [here](http://pandas.pydata.org/pandas-docs/stable/generated/pandas.Timestamp.html).\n",
    "\n",
    "We can confirm these assumption in python by checking index values of a pandas dataframe with `DataFrame.index`. "
   ]
  },
  {
   "cell_type": "code",
   "execution_count": 7,
   "metadata": {},
   "outputs": [
    {
     "data": {
      "text/plain": [
       "RangeIndex(start=0, stop=2284, step=1)"
      ]
     },
     "execution_count": 7,
     "metadata": {},
     "output_type": "execute_result"
    }
   ],
   "source": [
    "CO2.index"
   ]
  },
  {
   "cell_type": "code",
   "execution_count": 8,
   "metadata": {},
   "outputs": [
    {
     "data": {
      "text/plain": [
       "Index(['date', 'co2'], dtype='object')"
      ]
     },
     "execution_count": 8,
     "metadata": {},
     "output_type": "execute_result"
    }
   ],
   "source": [
    "CO2.columns"
   ]
  },
  {
   "cell_type": "code",
   "execution_count": 9,
   "metadata": {},
   "outputs": [],
   "source": [
    "CO2.set_index('date', inplace=True)"
   ]
  },
  {
   "cell_type": "code",
   "execution_count": 10,
   "metadata": {},
   "outputs": [
    {
     "data": {
      "text/plain": [
       "DatetimeIndex(['1958-03-29', '1958-04-05', '1958-04-12', '1958-04-19',\n",
       "               '1958-04-26', '1958-05-03', '1958-05-10', '1958-05-17',\n",
       "               '1958-05-24', '1958-05-31',\n",
       "               ...\n",
       "               '2001-10-27', '2001-11-03', '2001-11-10', '2001-11-17',\n",
       "               '2001-11-24', '2001-12-01', '2001-12-08', '2001-12-15',\n",
       "               '2001-12-22', '2001-12-29'],\n",
       "              dtype='datetime64[ns]', name='date', length=2284, freq=None)"
      ]
     },
     "execution_count": 10,
     "metadata": {},
     "output_type": "execute_result"
    }
   ],
   "source": [
    "CO2.index"
   ]
  },
  {
   "cell_type": "code",
   "execution_count": 11,
   "metadata": {},
   "outputs": [
    {
     "data": {
      "text/html": [
       "<div>\n",
       "<style scoped>\n",
       "    .dataframe tbody tr th:only-of-type {\n",
       "        vertical-align: middle;\n",
       "    }\n",
       "\n",
       "    .dataframe tbody tr th {\n",
       "        vertical-align: top;\n",
       "    }\n",
       "\n",
       "    .dataframe thead th {\n",
       "        text-align: right;\n",
       "    }\n",
       "</style>\n",
       "<table border=\"1\" class=\"dataframe\">\n",
       "  <thead>\n",
       "    <tr style=\"text-align: right;\">\n",
       "      <th></th>\n",
       "      <th>co2</th>\n",
       "    </tr>\n",
       "    <tr>\n",
       "      <th>date</th>\n",
       "      <th></th>\n",
       "    </tr>\n",
       "  </thead>\n",
       "  <tbody>\n",
       "    <tr>\n",
       "      <th>1958-03-29</th>\n",
       "      <td>316.1</td>\n",
       "    </tr>\n",
       "    <tr>\n",
       "      <th>1958-04-05</th>\n",
       "      <td>317.3</td>\n",
       "    </tr>\n",
       "    <tr>\n",
       "      <th>1958-04-12</th>\n",
       "      <td>317.6</td>\n",
       "    </tr>\n",
       "    <tr>\n",
       "      <th>1958-04-19</th>\n",
       "      <td>317.5</td>\n",
       "    </tr>\n",
       "    <tr>\n",
       "      <th>1958-04-26</th>\n",
       "      <td>316.4</td>\n",
       "    </tr>\n",
       "    <tr>\n",
       "      <th>1958-05-03</th>\n",
       "      <td>316.9</td>\n",
       "    </tr>\n",
       "    <tr>\n",
       "      <th>1958-05-10</th>\n",
       "      <td>NaN</td>\n",
       "    </tr>\n",
       "    <tr>\n",
       "      <th>1958-05-17</th>\n",
       "      <td>317.5</td>\n",
       "    </tr>\n",
       "    <tr>\n",
       "      <th>1958-05-24</th>\n",
       "      <td>317.9</td>\n",
       "    </tr>\n",
       "    <tr>\n",
       "      <th>1958-05-31</th>\n",
       "      <td>NaN</td>\n",
       "    </tr>\n",
       "    <tr>\n",
       "      <th>1958-06-07</th>\n",
       "      <td>NaN</td>\n",
       "    </tr>\n",
       "    <tr>\n",
       "      <th>1958-06-14</th>\n",
       "      <td>NaN</td>\n",
       "    </tr>\n",
       "    <tr>\n",
       "      <th>1958-06-21</th>\n",
       "      <td>NaN</td>\n",
       "    </tr>\n",
       "    <tr>\n",
       "      <th>1958-06-28</th>\n",
       "      <td>NaN</td>\n",
       "    </tr>\n",
       "    <tr>\n",
       "      <th>1958-07-05</th>\n",
       "      <td>315.8</td>\n",
       "    </tr>\n",
       "  </tbody>\n",
       "</table>\n",
       "</div>"
      ],
      "text/plain": [
       "              co2\n",
       "date             \n",
       "1958-03-29  316.1\n",
       "1958-04-05  317.3\n",
       "1958-04-12  317.6\n",
       "1958-04-19  317.5\n",
       "1958-04-26  316.4\n",
       "1958-05-03  316.9\n",
       "1958-05-10    NaN\n",
       "1958-05-17  317.5\n",
       "1958-05-24  317.9\n",
       "1958-05-31    NaN\n",
       "1958-06-07    NaN\n",
       "1958-06-14    NaN\n",
       "1958-06-21    NaN\n",
       "1958-06-28    NaN\n",
       "1958-07-05  315.8"
      ]
     },
     "execution_count": 11,
     "metadata": {},
     "output_type": "execute_result"
    }
   ],
   "source": [
    "CO2.head(15)"
   ]
  },
  {
   "cell_type": "code",
   "execution_count": null,
   "metadata": {},
   "outputs": [],
   "source": [
    "# Confirm that date values are used for indexing purpose in the CO2 dataset \n",
    "\n",
    "# DatetimeIndex(['1958-03-29', '1958-04-05', '1958-04-12', '1958-04-19',\n",
    "#                '1958-04-26', '1958-05-03', '1958-05-10', '1958-05-17',\n",
    "#                '1958-05-24', '1958-05-31',\n",
    "#                ...\n",
    "#                '2001-10-27', '2001-11-03', '2001-11-10', '2001-11-17',\n",
    "#                '2001-11-24', '2001-12-01', '2001-12-08', '2001-12-15',\n",
    "#                '2001-12-22', '2001-12-29'],\n",
    "#               dtype='datetime64[ns]', length=2284, freq='W-SAT')"
   ]
  },
  {
   "cell_type": "markdown",
   "metadata": {},
   "source": [
    "The output above shows that our dataset clearly fulfills the indexing requirements. Look at the last line:\n",
    "\n",
    "\n",
    "### **dtype='datetime64[ns]', length=2284, freq='W-SAT'**\n",
    "\n",
    "\n",
    "* `dtype=datetime[ns]` field confirms that the index is made of timestamp objects.\n",
    "* `length=2284` shows the total number of entries in our time series data.\n",
    "* `freq='W-SAT'` tells us that we have 2,284 weekly (W) date stamps starting on Saturdays (SAT).\n",
    "\n",
    "## Resampling\n",
    "\n",
    "Remember that depending on the nature of analytical question, the resolution of timestamps can also be changed to other frequencies. For this data set we can resample to monthly CO2 consumption values. This can be obtained by using the `resample() function`. Let's\n",
    "\n",
    "* Group the time-series into buckets representing 1 month using `resample()` function.\n",
    "* Apply a `mean()`function on each group (i.e. get monthly average).\n",
    "* Combine the result as one row per monthly group."
   ]
  },
  {
   "cell_type": "code",
   "execution_count": 24,
   "metadata": {},
   "outputs": [
    {
     "data": {
      "text/plain": [
       "date\n",
       "1958-03-01    316.100000\n",
       "1958-04-01    317.200000\n",
       "1958-05-01    317.433333\n",
       "1958-06-01           NaN\n",
       "1958-07-01    315.625000\n",
       "1958-08-01    314.950000\n",
       "1958-09-01    313.500000\n",
       "1958-10-01           NaN\n",
       "1958-11-01    313.425000\n",
       "1958-12-01    314.700000\n",
       "Freq: MS, Name: co2, dtype: float64"
      ]
     },
     "execution_count": 24,
     "metadata": {},
     "output_type": "execute_result"
    }
   ],
   "source": [
    "CO2_monthly = CO2[\"co2\"].resample('MS').mean()\n",
    "CO2_monthly.head(10)"
   ]
  },
  {
   "cell_type": "code",
   "execution_count": null,
   "metadata": {},
   "outputs": [],
   "source": [
    "# Group the timeseries into monthly buckets\n",
    "# Take the mean of each group \n",
    "# get the first 10 elements of resulting timeseries\n",
    "\n",
    "\n",
    "# 1958-03-01    316.100000\n",
    "# 1958-04-01    317.200000\n",
    "# 1958-05-01    317.433333\n",
    "# 1958-06-01           NaN\n",
    "# 1958-07-01    315.625000\n",
    "# 1958-08-01    314.950000\n",
    "# 1958-09-01    313.500000\n",
    "# 1958-10-01           NaN\n",
    "# 1958-11-01    313.425000\n",
    "# 1958-12-01    314.700000\n",
    "# Freq: MS, Name: co2, dtype: float64"
   ]
  },
  {
   "cell_type": "markdown",
   "metadata": {},
   "source": [
    "Looking at the index values, we can see that our time series now carries aggregated data on monthly terms, shown as `Freq: MS`. \n",
    "\n",
    "### Time-series Index Slicing for Data Selection\n",
    "\n",
    "Slice our dataset to only retrieve data points that come after the year 1990."
   ]
  },
  {
   "cell_type": "code",
   "execution_count": 26,
   "metadata": {},
   "outputs": [
    {
     "data": {
      "text/plain": [
       "date\n",
       "1990-01-01    353.650\n",
       "1990-02-01    354.650\n",
       "1990-03-01    355.480\n",
       "1990-04-01    356.175\n",
       "1990-05-01    357.075\n",
       "1990-06-01    356.080\n",
       "1990-07-01    354.675\n",
       "1990-08-01    352.900\n",
       "1990-09-01    350.940\n",
       "1990-10-01    351.225\n",
       "1990-11-01    352.700\n",
       "1990-12-01    354.140\n",
       "1991-01-01    354.675\n",
       "1991-02-01    355.650\n",
       "1991-03-01    357.200\n",
       "1991-04-01    358.600\n",
       "1991-05-01    359.250\n",
       "1991-06-01    358.180\n",
       "1991-07-01    356.050\n",
       "1991-08-01    353.860\n",
       "1991-09-01    352.125\n",
       "1991-10-01    352.250\n",
       "1991-11-01    353.740\n",
       "1991-12-01    355.025\n",
       "1992-01-01    355.900\n",
       "1992-02-01    356.680\n",
       "1992-03-01    357.900\n",
       "1992-04-01    359.075\n",
       "1992-05-01    359.540\n",
       "1992-06-01    359.125\n",
       "               ...   \n",
       "1999-07-01    369.000\n",
       "1999-08-01    366.700\n",
       "1999-09-01    364.675\n",
       "1999-10-01    365.140\n",
       "1999-11-01    366.650\n",
       "1999-12-01    367.900\n",
       "2000-01-01    369.020\n",
       "2000-02-01    369.375\n",
       "2000-03-01    370.400\n",
       "2000-04-01    371.540\n",
       "2000-05-01    371.650\n",
       "2000-06-01    371.625\n",
       "2000-07-01    369.940\n",
       "2000-08-01    367.950\n",
       "2000-09-01    366.540\n",
       "2000-10-01    366.725\n",
       "2000-11-01    368.125\n",
       "2000-12-01    369.440\n",
       "2001-01-01    370.175\n",
       "2001-02-01    371.325\n",
       "2001-03-01    372.060\n",
       "2001-04-01    372.775\n",
       "2001-05-01    373.800\n",
       "2001-06-01    373.060\n",
       "2001-07-01    371.300\n",
       "2001-08-01    369.425\n",
       "2001-09-01    367.880\n",
       "2001-10-01    368.050\n",
       "2001-11-01    369.375\n",
       "2001-12-01    371.020\n",
       "Freq: MS, Name: co2, Length: 144, dtype: float64"
      ]
     },
     "execution_count": 26,
     "metadata": {},
     "output_type": "execute_result"
    }
   ],
   "source": [
    "CO2_monthly['1990':]"
   ]
  },
  {
   "cell_type": "code",
   "execution_count": null,
   "metadata": {},
   "outputs": [],
   "source": [
    "# Slice the timeseries to contain data after year 1990. \n",
    "\n",
    "# 1990-01-01    353.650\n",
    "# 1990-02-01    354.650\n",
    "#                ...   \n",
    "# 2001-11-01    369.375\n",
    "# 2001-12-01    371.020\n",
    "# Freq: MS, Name: co2, Length: 144, dtype: float64"
   ]
  },
  {
   "cell_type": "markdown",
   "metadata": {},
   "source": [
    "Slice the time series for a given time interval. Let's try to retrieve data starting from Jan 1990 to Jan 1991."
   ]
  },
  {
   "cell_type": "code",
   "execution_count": 28,
   "metadata": {},
   "outputs": [
    {
     "data": {
      "text/plain": [
       "date\n",
       "1990-01-01    353.650\n",
       "1990-02-01    354.650\n",
       "1990-03-01    355.480\n",
       "1990-04-01    356.175\n",
       "1990-05-01    357.075\n",
       "1990-06-01    356.080\n",
       "1990-07-01    354.675\n",
       "1990-08-01    352.900\n",
       "1990-09-01    350.940\n",
       "1990-10-01    351.225\n",
       "1990-11-01    352.700\n",
       "1990-12-01    354.140\n",
       "1991-01-01    354.675\n",
       "Freq: MS, Name: co2, dtype: float64"
      ]
     },
     "execution_count": 28,
     "metadata": {},
     "output_type": "execute_result"
    }
   ],
   "source": [
    "CO2_monthly['1990-01':'1991-01']"
   ]
  },
  {
   "cell_type": "code",
   "execution_count": null,
   "metadata": {},
   "outputs": [],
   "source": [
    "# Retrieve the data between 1st Jan 1990 to 1st Jan 1991\n",
    "\n",
    "# 1990-01-01    353.650\n",
    "# 1990-02-01    354.650\n",
    "# 1990-03-01    355.480\n",
    "# 1990-04-01    356.175\n",
    "# 1990-05-01    357.075\n",
    "# 1990-06-01    356.080\n",
    "# 1990-07-01    354.675\n",
    "# 1990-08-01    352.900\n",
    "# 1990-09-01    350.940\n",
    "# 1990-10-01    351.225\n",
    "# 1990-11-01    352.700\n",
    "# 1990-12-01    354.140\n",
    "# 1991-01-01    354.675\n",
    "# Freq: MS, Name: co2, dtype: float64"
   ]
  },
  {
   "cell_type": "markdown",
   "metadata": {},
   "source": [
    "## Missing Values\n",
    "\n",
    "Check if there are missing values in the data set."
   ]
  },
  {
   "cell_type": "code",
   "execution_count": 29,
   "metadata": {},
   "outputs": [
    {
     "data": {
      "text/plain": [
       "5"
      ]
     },
     "execution_count": 29,
     "metadata": {},
     "output_type": "execute_result"
    }
   ],
   "source": [
    "CO2_monthly.isnull().sum()"
   ]
  },
  {
   "cell_type": "code",
   "execution_count": null,
   "metadata": {},
   "outputs": [],
   "source": [
    "# Get the total number of missing values in the time series\n",
    "\n",
    "# 5"
   ]
  },
  {
   "cell_type": "markdown",
   "metadata": {},
   "source": [
    "Remember that missing values can be filled in a multitude of ways. Look for the next valid entry in the time series and fills the gaps with this value. Next, check if your attempt was successful by checking for missing values again."
   ]
  },
  {
   "cell_type": "code",
   "execution_count": 30,
   "metadata": {},
   "outputs": [
    {
     "data": {
      "text/plain": [
       "0"
      ]
     },
     "execution_count": 30,
     "metadata": {},
     "output_type": "execute_result"
    }
   ],
   "source": [
    "CO2_monthly.bfill().isnull().sum()"
   ]
  },
  {
   "cell_type": "code",
   "execution_count": 31,
   "metadata": {},
   "outputs": [],
   "source": [
    "# perform backward filling of missing values\n",
    "# check again for missing values\n",
    "\n",
    "# 0"
   ]
  },
  {
   "cell_type": "markdown",
   "metadata": {},
   "source": [
    "Great! Now your time series are ready for visualization and further analysis.\n",
    "\n",
    "## Summary\n",
    "\n",
    "In this introductory lab, you learned how to create a time series object in Python using Pandas. You learned how to check timestamp values as the data index and you learned about basic data handling techniques for getting time-series data ready for further analysis."
   ]
  },
  {
   "cell_type": "code",
   "execution_count": null,
   "metadata": {},
   "outputs": [],
   "source": []
  }
 ],
 "metadata": {
  "kernelspec": {
   "display_name": "Python 3",
   "language": "python",
   "name": "python3"
  },
  "language_info": {
   "codemirror_mode": {
    "name": "ipython",
    "version": 3
   },
   "file_extension": ".py",
   "mimetype": "text/x-python",
   "name": "python",
   "nbconvert_exporter": "python",
   "pygments_lexer": "ipython3",
   "version": "3.6.6"
  }
 },
 "nbformat": 4,
 "nbformat_minor": 2
}
